{
 "cells": [
  {
   "cell_type": "markdown",
   "metadata": {},
   "source": [
    "# Import Package"
   ]
  },
  {
   "cell_type": "code",
   "execution_count": 1,
   "metadata": {},
   "outputs": [],
   "source": [
    "%matplotlib inline\n",
    "import matplotlib.animation as animation\n",
    "import matplotlib.pyplot as plt\n",
    "import numpy as np\n",
    "import torch\n",
    "import torch.nn as nn\n",
    "import torch.optim as optim\n",
    "import torch.nn.functional as F\n",
    "from torchvision import models\n",
    "from torch.distributions import Categorical\n",
    "from tqdm.notebook import tqdm\n",
    "import pickle\n",
    "\n",
    "import gymnasium as gym\n",
    "import random\n",
    "from bayes_opt import BayesianOptimization"
   ]
  },
  {
   "cell_type": "markdown",
   "metadata": {},
   "source": [
    "# Lunar Lander environment"
   ]
  },
  {
   "cell_type": "code",
   "execution_count": 2,
   "metadata": {},
   "outputs": [],
   "source": [
    "seed = 543\n",
    "def fix(env, seed):\n",
    "    env.action_space.seed(seed)\n",
    "    torch.manual_seed(seed)\n",
    "    np.random.seed(seed)\n",
    "    random.seed(seed)\n",
    "env = gym.make('LunarLander-v2' ,render_mode='rgb_array')\n",
    "fix(env, seed) # fix the environment Do not revise this !!!"
   ]
  },
  {
   "cell_type": "code",
   "execution_count": 3,
   "metadata": {},
   "outputs": [
    {
     "data": {
      "text/plain": [
       "(array([-7.7629091e-05,  1.4208617e+00, -7.8776376e-03,  4.4184282e-01,\n",
       "         9.6731499e-05,  1.7843659e-03,  0.0000000e+00,  0.0000000e+00],\n",
       "       dtype=float32),\n",
       " {})"
      ]
     },
     "execution_count": 3,
     "metadata": {},
     "output_type": "execute_result"
    }
   ],
   "source": [
    "env.reset()"
   ]
  },
  {
   "cell_type": "markdown",
   "metadata": {},
   "source": [
    "# PPO Agent"
   ]
  },
  {
   "cell_type": "markdown",
   "metadata": {},
   "source": [
    "**If you DON'T want to OVERWRITE your previous results, increment the N by 1!**"
   ]
  },
  {
   "cell_type": "code",
   "execution_count": 4,
   "metadata": {},
   "outputs": [
    {
     "name": "stdout",
     "output_type": "stream",
     "text": [
      "cuda\n"
     ]
    }
   ],
   "source": [
    "device = torch.device(\"cuda\" if torch.cuda.is_available() else \"cpu\")\n",
    "print(device)\n",
    "N = 5"
   ]
  },
  {
   "cell_type": "markdown",
   "metadata": {},
   "source": [
    "## Class: Memory\n",
    "\n",
    "store the actions, states, rewards, is_termminal, and log probabilities"
   ]
  },
  {
   "cell_type": "code",
   "execution_count": 5,
   "metadata": {},
   "outputs": [],
   "source": [
    "class Memory:\n",
    "    def __init__(self):\n",
    "        self.actions = []\n",
    "        self.states = []\n",
    "        self.logprobs = []\n",
    "        self.rewards = []\n",
    "        self.is_terminals = []\n",
    "\n",
    "    def clear_memory(self):\n",
    "        del self.actions[:]\n",
    "        del self.states[:]\n",
    "        del self.logprobs[:]\n",
    "        del self.rewards[:]\n",
    "        del self.is_terminals[:]"
   ]
  },
  {
   "cell_type": "markdown",
   "metadata": {},
   "source": [
    "## Class: ActorCritic\n",
    "\n",
    "### 2 fully connected networks\n",
    "1. actor/action layer: input the states, follow the policy and yields an action\n",
    "2. critic/value layer: input the states, evaluate the current estimated rewards\n",
    "\n",
    "### act function\n",
    "\n",
    "Generate a probability distribution of the actions using action layer taking state as the input, sample one action and store these information in the memory.\n",
    "\n",
    "### evaluate function\n",
    "\n",
    "Take a state as input and generate action probability distribution, calculate the entropy of this distribution and evaluate the log probability of the given action. Use the critic to evaluate the expected rewards under current state. Return all these values."
   ]
  },
  {
   "cell_type": "code",
   "execution_count": 6,
   "metadata": {},
   "outputs": [],
   "source": [
    "class ActorCritic(nn.Module):\n",
    "    def __init__(self, state_dim, action_dim, n_latent_var):\n",
    "        super(ActorCritic, self).__init__()\n",
    "\n",
    "        # actor\n",
    "        self.action_layer = nn.Sequential(\n",
    "                nn.Linear(state_dim, 128),\n",
    "                nn.ReLU(),\n",
    "                nn.Linear(128, n_latent_var),\n",
    "                nn.ReLU(),\n",
    "                nn.Linear(n_latent_var, action_dim),\n",
    "                nn.Softmax(dim=-1)\n",
    "                )\n",
    "\n",
    "        # critic\n",
    "        self.value_layer = nn.Sequential(\n",
    "               nn.Linear(state_dim, 128),\n",
    "               nn.ReLU(),\n",
    "               nn.Linear(128, n_latent_var),\n",
    "               nn.ReLU(),\n",
    "               nn.Linear(n_latent_var, 1)\n",
    "               )\n",
    "    \n",
    "    def act(self, state, memory):\n",
    "        state = torch.from_numpy(state).float().to(device)\n",
    "        action_probs = self.action_layer(state)\n",
    "        dist = Categorical(action_probs)\n",
    "        action = dist.sample()\n",
    "\n",
    "        memory.states.append(state)\n",
    "        memory.actions.append(action)\n",
    "        memory.logprobs.append(dist.log_prob(action))\n",
    "\n",
    "        return action.item()\n",
    "\n",
    "    def evaluate(self, state, action):\n",
    "        action_probs = self.action_layer(state)\n",
    "        dist = Categorical(action_probs)\n",
    "        action_logprobs = dist.log_prob(action)\n",
    "        dist_entropy = dist.entropy()\n",
    "\n",
    "        state_value = self.value_layer(state)\n",
    "\n",
    "        return action_logprobs, torch.squeeze(state_value), dist_entropy"
   ]
  },
  {
   "cell_type": "markdown",
   "metadata": {},
   "source": [
    "## PPO agent\n",
    "\n",
    "Some explaination of concepts and functions:\n",
    "\n",
    "### gamma\n",
    "\n",
    "If close to 1, future rewards will be considered more\n",
    "If close to 0, current rewards wiil take more proportion\n",
    "\n",
    "### state_values\n",
    "\n",
    "The output of the critic, which evaluates the state and give an expected future reward\n",
    "\n",
    "### rewards\n",
    "\n",
    "The static list of discounted rewards calculated by the data in old trajectory (when adopting old policy)\n",
    "\n",
    "### advantages = rewards - state_values.detach()\n",
    "\n",
    "How better the old policy perform than current policy. if positive, actual reward is higher than state value, it is better to stick to current action, vice versa\n",
    "\n",
    "### update()\n",
    "\n",
    "Calling this function will update the networks for K epochs.\n",
    "\n",
    "### step()\n",
    "\n",
    "Record the information of one step the agent just took in the environment. Every 1000(update_timestep) steps reached will trigger update(). Therefore, the update frequency is guaranteed."
   ]
  },
  {
   "cell_type": "code",
   "execution_count": 7,
   "metadata": {},
   "outputs": [],
   "source": [
    "class PPOAgent:\n",
    "    def __init__(self, state_dim, action_dim, n_latent_var,update_timestep, lr, betas, gamma, K_epochs, eps_clip, c1, c2):\n",
    "        self.lr = lr\n",
    "        self.betas = betas\n",
    "        self.gamma = gamma\n",
    "        self.eps_clip = eps_clip\n",
    "        self.K_epochs = K_epochs\n",
    "        self.update_timestep = update_timestep\n",
    "        self.timestep = 0\n",
    "        self.memory = Memory()\n",
    "\n",
    "        self.policy = ActorCritic(state_dim, action_dim, n_latent_var).to(device)\n",
    "        self.optimizer = torch.optim.Adam(self.policy.parameters(), lr=lr, betas=betas)\n",
    "        self.policy_old = ActorCritic(state_dim, action_dim, n_latent_var).to(device)\n",
    "        self.policy_old.load_state_dict(self.policy.state_dict())\n",
    "\n",
    "        self.MseLoss = nn.MSELoss()\n",
    "        self.update_cnt = 0\n",
    "\n",
    "        self.c1 = c1\n",
    "        self.c2 = c2\n",
    "\n",
    "\n",
    "    def update(self):   \n",
    "        # Monte Carlo estimate of state rewards:\n",
    "        rewards = []\n",
    "        discounted_reward = 0\n",
    "        for reward, is_terminal in zip(reversed(self.memory.rewards), reversed(self.memory.is_terminals)):\n",
    "            if is_terminal:\n",
    "                discounted_reward = 0\n",
    "            discounted_reward = reward + (self.gamma * discounted_reward)\n",
    "            rewards.insert(0, discounted_reward)\n",
    "\n",
    "        # Normalizing the rewards:\n",
    "        rewards = torch.tensor(rewards, dtype=torch.float32).to(device)\n",
    "        rewards = (rewards - rewards.mean()) / (rewards.std() + 1e-5)\n",
    "\n",
    "        # convert list to tensor\n",
    "        old_states = torch.stack(self.memory.states).detach().to(device)\n",
    "        old_actions = torch.stack(self.memory.actions).detach().to(device)\n",
    "        old_logprobs = torch.stack(self.memory.logprobs).detach().to(device)\n",
    "\n",
    "        # Optimize policy for K epochs:\n",
    "        for _ in range(self.K_epochs):\n",
    "            # Evaluating old actions and values \n",
    "            logprobs, state_values, dist_entropy = self.policy.evaluate(old_states, old_actions)\n",
    "\n",
    "            # Finding the ratio (pi_theta / pi_theta__old)\n",
    "            ratios = torch.exp(logprobs - old_logprobs.detach())\n",
    "\n",
    "            # Finding Surrogate Loss \n",
    "            advantages = rewards - state_values.detach()\n",
    "            \n",
    "            surr1 = ratios * advantages\n",
    "            surr2 = torch.clamp(ratios, 1-self.eps_clip, 1+self.eps_clip) * advantages # clip to avoid large difference between samples\n",
    "            loss = -torch.min(surr1, surr2)  + self.c1*self.MseLoss(state_values, rewards) + self.c2*dist_entropy\n",
    "\n",
    "            # take gradient step\n",
    "            self.optimizer.zero_grad()\n",
    "            loss.mean().backward()\n",
    "            self.optimizer.step()\n",
    "\n",
    "        # Copy new weights into old policy:\n",
    "        self.policy_old.load_state_dict(self.policy.state_dict())\n",
    "        self.memory.clear_memory()\n",
    "\n",
    "    def step(self, reward, done):\n",
    "        self.timestep += 1 \n",
    "        # Saving reward and is_terminal:\n",
    "        self.memory.rewards.append(reward)\n",
    "        self.memory.is_terminals.append(done)\n",
    "\n",
    "        # update the policy per \"update_timestep\"\n",
    "        if self.timestep % self.update_timestep == 0:\n",
    "            self.update()\n",
    "            self.memory.clear_memory()\n",
    "            self.update_cnt += 1\n",
    "\n",
    "    def act(self, state):\n",
    "        return self.policy_old.act(state, self.memory)\n",
    "    \n",
    "    def train(self):\n",
    "        self.policy.train()\n",
    "        self.policy_old.train()\n",
    "\n",
    "    def eval(self):\n",
    "        self.policy.eval()\n",
    "        self.policy_old.eval()"
   ]
  },
  {
   "cell_type": "markdown",
   "metadata": {},
   "source": [
    "## Helping functions"
   ]
  },
  {
   "cell_type": "code",
   "execution_count": 8,
   "metadata": {},
   "outputs": [],
   "source": [
    "def moving_average(total_rewards):\n",
    "    if len(total_rewards) == 0:\n",
    "        return 0\n",
    "    if len(total_rewards) < 99:\n",
    "        return np.mean(total_rewards)\n",
    "    else:\n",
    "        return np.mean(total_rewards[-100:])\n",
    "    \n",
    "def reward_shaping(pre_state, state, type):\n",
    "    if (type == \"center\"):\n",
    "        pre_shaping = -20*np.abs(pre_state[0])\n",
    "        shaping = -20*np.abs(state[0])\n",
    "    if (type == \"horizontal\"):\n",
    "        pre_shaping = -1*np.abs(pre_state[4])\n",
    "        shaping = -1*np.abs(state[4])\n",
    "    if (type == \"both\"):\n",
    "        pre_shaping = -10*np.abs(pre_state[0])-5*abs(pre_state[4])\n",
    "        shaping = -10*np.abs(state[0])-5*abs(state[4])\n",
    "    if (type == \"none\"):\n",
    "        pre_shaping, shaping = 0, 0\n",
    "    return shaping - pre_shaping"
   ]
  },
  {
   "cell_type": "markdown",
   "metadata": {},
   "source": [
    "## Training function"
   ]
  },
  {
   "cell_type": "markdown",
   "metadata": {},
   "source": [
    "### It will take the agent as input and train it until some standard is satisfied. Then return the some results data as a disctionary.\n",
    "\n",
    "### You can set some parameters when calling this training function:\n",
    "1. reward_mode\n",
    "   \n",
    "    When doing experiment with reshape the reward function, this could be set to \"center\", \"horizontal\" or \"both\". When training normally, set this to \"none\".\n",
    "3. target_score\n",
    "   \n",
    "    If moving average score in training over previous 100 episodes reaches this score, the training will be terminated.\n",
    "4. target_success_rate\n",
    "   \n",
    "    If the landing success rate over previous 300 episodes reaches this value, the training will be terminated.\n",
    "6. max_episodes\n",
    "   \n",
    "    You cannot train more than this number of episodes.\n",
    "8. max_steps\n",
    "   \n",
    "    Use for debug.\n",
    "\n",
    "### Return value:\n",
    "1. total_rewards\n",
    "\n",
    "    The list of rewards that the lander was rewarded in every episode during the training process.\n",
    "2. moving_average_rewards\n",
    "\n",
    "    Use a sliding window of size 100 to show the average rewards the agent got through training.\n",
    "3. final_rewards\n",
    "\n",
    "    The list of the final rewards in each episode, which indicates whether the lander had successfully landed. If the final reward is 100, it lands successfully; if -100, it crashes in the end.\n",
    "\n",
    "5. num_episodes\n",
    "\n",
    "    The number of episodes.\n",
    "6. success_rate\n",
    "\n",
    "    This is the success landing rate of last 300 episodes. So, it changes across the training process. In the end, it is returned as the success rate of last 300 episodes."
   ]
  },
  {
   "cell_type": "code",
   "execution_count": 9,
   "metadata": {},
   "outputs": [],
   "source": [
    "def TrainOnce(c2, eps_clip, agent, reward_mode = \"none\", target_score = 200, target_success_rate = 0.9, max_episodes=2000, max_steps=900):\n",
    "    agent.train()\n",
    "    print(f\"Training with c2: {c2}, eps_clip: {eps_clip}\")\n",
    "    total_rewards = []\n",
    "    final_rewards = []\n",
    "    moving_average_rewards = []\n",
    "    num_episodes = 0\n",
    "    success_rate = 0\n",
    "    while True:\n",
    "        num_episodes += 1\n",
    "        state = env.reset()[0]\n",
    "        total_reward = 0\n",
    "        total_shaped_reward = 0\n",
    "        step = 0\n",
    "        # update_cnt = agent.update_cnt\n",
    "        while True:\n",
    "            step +=1\n",
    "            action = agent.act(state)\n",
    "            next_state, reward, done, _, _ = env.step(action)\n",
    "            total_reward += reward\n",
    "\n",
    "            shaped_reward = reward + reward_shaping(state, next_state, reward_mode)\n",
    "            total_shaped_reward += shaped_reward # use the shaped reward to train\n",
    "            agent.step(shaped_reward, done)\n",
    "            \n",
    "            state = next_state\n",
    "            # if done or step >= max_steps:\n",
    "            if done:\n",
    "                final_rewards.append(reward)\n",
    "                total_rewards.append(total_reward)\n",
    "                break\n",
    "\n",
    "        moving_average_rewards.append(moving_average(total_rewards))\n",
    "        success_rate = final_rewards[-100:].count(100) / 100\n",
    "\n",
    "        if (num_episodes % 100 == 0):\n",
    "            print(f\"Update Count: {agent.update_cnt}, average rewards: {moving_average_rewards[-1]}, episode: {num_episodes}, success rate: {success_rate}\")\n",
    "        \n",
    "        # finish the training if any one condition is reached\n",
    "        if (moving_average(total_rewards) >= target_score):\n",
    "            print(f\"Target score reached in {num_episodes} episodes!\")\n",
    "            break\n",
    "        if (success_rate >= target_success_rate):\n",
    "            print(f\"Target success rate reached in {num_episodes} episodes!\")\n",
    "            break\n",
    "        if (num_episodes >= max_episodes):\n",
    "            print(f\"Max episodes {max_episodes} reached!\")\n",
    "            break\n",
    "\n",
    "    training_result = {\n",
    "        \"total_rewards\": total_rewards,\n",
    "        \"moving_average_rewards\": moving_average_rewards,\n",
    "        \"final_rewards\": final_rewards,\n",
    "        \"num_episodes\": num_episodes,\n",
    "        \"success_rate\": success_rate\n",
    "    }\n",
    "    return training_result"
   ]
  },
  {
   "cell_type": "markdown",
   "metadata": {},
   "source": [
    "## Evaluation function\n",
    "\n",
    "Switch the model to evaluate mode and test for ``eval_num`` (500 by defaults) rounds of games, and calculate the related data. Return a dictionary including related information, where the definition is similar to those in Training function."
   ]
  },
  {
   "cell_type": "code",
   "execution_count": 10,
   "metadata": {},
   "outputs": [],
   "source": [
    "def EvaluateOnce(agent, eval_num = 500):\n",
    "    agent.eval()\n",
    "    test_total_rewards = []\n",
    "    test_final_rewards = []\n",
    "    success_rate = 0\n",
    "    prg_bar = tqdm(range(eval_num))\n",
    "    for i in prg_bar:\n",
    "        state = env.reset()[0]\n",
    "        total_reward = 0\n",
    "        step = 0\n",
    "        done = False\n",
    "        while not done:\n",
    "            action = agent.act(state)\n",
    "            state, reward, done, _, _ = env.step(action)\n",
    "            total_reward += reward\n",
    "            step += 1\n",
    "            if (step>3000):\n",
    "                done = True\n",
    "        test_total_rewards.append(total_reward)\n",
    "        test_final_rewards.append(reward)\n",
    "    success_rate = test_final_rewards.count(100) / eval_num\n",
    "    print(f\"Test success rate {success_rate} over {eval_num} games\")\n",
    "    eval_result = {\n",
    "        \"test_total_rewards\": test_total_rewards,\n",
    "        \"test_final_rewards\": test_final_rewards,\n",
    "        \"success_rate\": success_rate\n",
    "    }\n",
    "    return eval_result"
   ]
  },
  {
   "cell_type": "markdown",
   "metadata": {},
   "source": [
    "# Bayesian Optimization"
   ]
  },
  {
   "cell_type": "markdown",
   "metadata": {},
   "source": [
    "## Use BayesianOptimization to find the best pair of c2 and eps_clip\n",
    "\n",
    "Modify the \"if\" condition to enable or disable the optimization process"
   ]
  },
  {
   "cell_type": "code",
   "execution_count": 11,
   "metadata": {},
   "outputs": [],
   "source": [
    "state_dim = 8 \n",
    "action_dim = 4 \n",
    "n_latent_var = 64\n",
    "update_timestep = 1000\n",
    "c1 = 0.5\n",
    "lr = 0.003\n",
    "betas = (0.9, 0.999)\n",
    "gamma = 0.99\n",
    "K_epochs = 4\n",
    "\n",
    "c2=-0.006031556122828571\n",
    "eps_clip=0.220106198572796\n",
    "if (False):\n",
    "    p_bounds = {'c2': (-0.012, -0.006), 'eps_clip': (0.1,0.3)}\n",
    "\n",
    "    def PPO_fn(c2, eps_clip):\n",
    "        agent = PPOAgent(state_dim,action_dim,n_latent_var,update_timestep,lr,betas,gamma,K_epochs,eps_clip,c1,c2)\n",
    "        training_result = TrainOnce(c2, eps_clip, agent, target_score=200)\n",
    "        return -training_result[\"num_episodes\"]\n",
    "    HyperParamOptimizer = BayesianOptimization(\n",
    "        f=PPO_fn,\n",
    "        pbounds=p_bounds,\n",
    "        random_state=1\n",
    "    )\n",
    "    HyperParamOptimizer.probe(\n",
    "        params=[-0.008, 0.20],\n",
    "        lazy=True\n",
    "    )\n",
    "    HyperParamOptimizer.maximize(\n",
    "        init_points=2,\n",
    "        n_iter=7\n",
    "    )\n",
    "    print(HyperParamOptimizer.max)\n",
    "    c2 = HyperParamOptimizer.max['params']['c2']\n",
    "    eps_clip = HyperParamOptimizer.max['params']['eps_clip']\n"
   ]
  },
  {
   "cell_type": "markdown",
   "metadata": {},
   "source": [
    "# Train a excellent model\n",
    "\n",
    "## Set your requirements, and keep training until one of them are satisfied.\n",
    "\n",
    "Here you can set your expected target score or target success rate. It is very likely that the model can satisfy that goal when testing.\n",
    "\n",
    "For average score above 250 and success rate above 95%, it is hard to guarantee to obtain the result."
   ]
  },
  {
   "cell_type": "code",
   "execution_count": 12,
   "metadata": {},
   "outputs": [
    {
     "name": "stdout",
     "output_type": "stream",
     "text": [
      "Training with c2: -0.006031556122828571, eps_clip: 0.220106198572796\n",
      "Update Count: 9, average rewards: -150.42289864146062, episode: 100, success rate: 0.0\n",
      "Update Count: 43, average rewards: -109.35090692502197, episode: 200, success rate: 0.01\n",
      "Update Count: 53, average rewards: -76.14485781574781, episode: 300, success rate: 0.01\n",
      "Update Count: 64, average rewards: -33.042283822964855, episode: 400, success rate: 0.0\n",
      "Update Count: 103, average rewards: 81.93633157169121, episode: 500, success rate: 0.45\n",
      "Update Count: 144, average rewards: 108.66090582589364, episode: 600, success rate: 0.65\n",
      "Update Count: 180, average rewards: 177.67763214153743, episode: 700, success rate: 0.75\n",
      "Update Count: 212, average rewards: 144.40313283285153, episode: 800, success rate: 0.63\n",
      "Update Count: 246, average rewards: 101.46894091936105, episode: 900, success rate: 0.68\n",
      "Update Count: 275, average rewards: 143.0227816894068, episode: 1000, success rate: 0.72\n",
      "Update Count: 310, average rewards: 158.1179360011836, episode: 1100, success rate: 0.77\n",
      "Update Count: 345, average rewards: 203.42147406485975, episode: 1200, success rate: 0.85\n",
      "Update Count: 372, average rewards: 217.63905909996762, episode: 1300, success rate: 0.84\n",
      "Target success rate reached in 1388 episodes!\n"
     ]
    }
   ],
   "source": [
    "agent = PPOAgent(state_dim ,action_dim,n_latent_var,update_timestep, lr,betas,gamma,K_epochs,eps_clip,c1,c2)\n",
    "excellent_result = TrainOnce(c2, eps_clip, agent, target_score=250, target_success_rate=0.90, max_episodes=5000, max_steps=1000)"
   ]
  },
  {
   "cell_type": "markdown",
   "metadata": {},
   "source": [
    "## Save the model"
   ]
  },
  {
   "cell_type": "code",
   "execution_count": 13,
   "metadata": {},
   "outputs": [],
   "source": [
    "torch.save(agent.policy_old.state_dict(), f'./trained_models/PPO_LunarLander_{N}.pth')"
   ]
  },
  {
   "cell_type": "markdown",
   "metadata": {},
   "source": [
    "# Load and evaluation"
   ]
  },
  {
   "cell_type": "markdown",
   "metadata": {},
   "source": [
    "## load the model"
   ]
  },
  {
   "cell_type": "code",
   "execution_count": 14,
   "metadata": {},
   "outputs": [
    {
     "data": {
      "text/plain": [
       "<All keys matched successfully>"
      ]
     },
     "execution_count": 14,
     "metadata": {},
     "output_type": "execute_result"
    }
   ],
   "source": [
    "state_dict = torch.load(f'./trained_models/PPO_LunarLander_{N}.pth')\n",
    "model = PPOAgent(state_dim ,action_dim,n_latent_var,update_timestep,lr,betas,gamma,K_epochs,eps_clip,c1,c2)\n",
    "model.policy.load_state_dict(state_dict)\n",
    "model.policy_old.load_state_dict(state_dict)"
   ]
  },
  {
   "cell_type": "markdown",
   "metadata": {},
   "source": [
    "## Evaluate for few hundred times"
   ]
  },
  {
   "cell_type": "code",
   "execution_count": 15,
   "metadata": {},
   "outputs": [
    {
     "data": {
      "application/vnd.jupyter.widget-view+json": {
       "model_id": "47541ce75bca4a5d9fd430745214776b",
       "version_major": 2,
       "version_minor": 0
      },
      "text/plain": [
       "  0%|          | 0/300 [00:00<?, ?it/s]"
      ]
     },
     "metadata": {},
     "output_type": "display_data"
    },
    {
     "name": "stdout",
     "output_type": "stream",
     "text": [
      "Test success rate 0.9766666666666667 over 300 games\n"
     ]
    }
   ],
   "source": [
    "eval_result = EvaluateOnce(model, 300)"
   ]
  },
  {
   "cell_type": "markdown",
   "metadata": {},
   "source": [
    "## Store the evaluation result and training result"
   ]
  },
  {
   "cell_type": "code",
   "execution_count": 16,
   "metadata": {},
   "outputs": [],
   "source": [
    "total_rewards = excellent_result['total_rewards']\n",
    "final_rewards = excellent_result['final_rewards']\n",
    "moving_average_rewards = excellent_result['moving_average_rewards']\n",
    "test_total_rewards = eval_result['test_total_rewards']\n",
    "test_final_rewards = eval_result['test_final_rewards']\n",
    "success_rate = eval_result['success_rate']\n",
    "data = {'total_rewards': total_rewards, 'final_rewards': final_rewards, 'moving_average_rewards': moving_average_rewards, 'test_total_rewards': test_total_rewards, 'test_final_rewards': test_final_rewards, 'success_rate': success_rate}\n",
    "\n",
    "with open(f'./results/PPO_Result_{N}.pkl', 'wb') as f:\n",
    "    pickle.dump(data, f)"
   ]
  },
  {
   "cell_type": "markdown",
   "metadata": {},
   "source": [
    "## DEMO"
   ]
  },
  {
   "cell_type": "markdown",
   "metadata": {},
   "source": [
    "### Demo Saving Function"
   ]
  },
  {
   "cell_type": "code",
   "execution_count": 17,
   "metadata": {},
   "outputs": [],
   "source": [
    "!mkdir demo_gifs/trial{N}"
   ]
  },
  {
   "cell_type": "code",
   "execution_count": 18,
   "metadata": {},
   "outputs": [],
   "source": [
    "def save_demo(agent, num=10, mode = 'trail'):\n",
    "    agent.eval()\n",
    "    fig = plt.figure()\n",
    "    total_rewards = []\n",
    "\n",
    "    for i in range(num):\n",
    "        ims = []\n",
    "        agent.eval()\n",
    "        actions = []\n",
    "        state = env.reset()[0]\n",
    "        total_reward = 0\n",
    "        done = False\n",
    "        step = 0\n",
    "        while not done :\n",
    "            step +=1\n",
    "            action = model.act(state)\n",
    "            actions.append(action)\n",
    "            state, reward, done, _, _ = env.step(action)\n",
    "            total_reward += reward\n",
    "            im = plt.imshow(env.render(), animated=True)\n",
    "            ims.append([im])\n",
    "        total_rewards.append(total_reward)\n",
    "        ani = animation.ArtistAnimation(fig, ims, interval=25, blit=True, repeat_delay=1000)\n",
    "        if mode=='trail':\n",
    "            ani.save(f'./demo_gifs/trial{N}/demo_{N}_{i}.gif')\n",
    "        if mode=='reward shaping':\n",
    "            ani.save(f'./demo_gifs/trial{N}/reward_shaping_{N}_{i}.gif')\n",
    "        if mode=='compare':\n",
    "            ani.save(f'./demo_gifs/trial{N}/compare_{N}_{i}.gif')\n"
   ]
  },
  {
   "cell_type": "markdown",
   "metadata": {},
   "source": [
    "### Save 10 demos for model loaded just now"
   ]
  },
  {
   "cell_type": "code",
   "execution_count": 19,
   "metadata": {},
   "outputs": [
    {
     "data": {
      "image/png": "[encoded data removed]",
      "text/plain": [
       "<Figure size 640x480 with 1 Axes>"
      ]
     },
     "metadata": {},
     "output_type": "display_data"
    }
   ],
   "source": [
    "save_demo(model, 10, 'trail')"
   ]
  },
  {
   "cell_type": "markdown",
   "metadata": {},
   "source": [
    "# Reward Shaping"
   ]
  },
  {
   "cell_type": "code",
   "execution_count": 20,
   "metadata": {},
   "outputs": [],
   "source": [
    "!mkdir demo_gifs/reward_shaping{N}"
   ]
  },
  {
   "cell_type": "markdown",
   "metadata": {},
   "source": [
    "## Training process"
   ]
  },
  {
   "cell_type": "code",
   "execution_count": 21,
   "metadata": {},
   "outputs": [
    {
     "name": "stdout",
     "output_type": "stream",
     "text": [
      "Training with c2: -0.006031556122828571, eps_clip: 0.220106198572796\n",
      "Update Count: 13, average rewards: -200.17757427139415, episode: 100, success rate: 0.0\n",
      "Update Count: 34, average rewards: -196.76633538186937, episode: 200, success rate: 0.01\n",
      "Update Count: 44, average rewards: -94.33455936939134, episode: 300, success rate: 0.0\n",
      "Update Count: 69, average rewards: -38.74023207553534, episode: 400, success rate: 0.03\n",
      "Update Count: 97, average rewards: -31.71977591105826, episode: 500, success rate: 0.07\n",
      "Update Count: 127, average rewards: 9.786768189378106, episode: 600, success rate: 0.23\n",
      "Update Count: 159, average rewards: 44.871033853904954, episode: 700, success rate: 0.39\n",
      "Update Count: 196, average rewards: 69.77595729733954, episode: 800, success rate: 0.48\n",
      "Update Count: 233, average rewards: 26.872491974966703, episode: 900, success rate: 0.44\n",
      "Update Count: 268, average rewards: 29.804316096140454, episode: 1000, success rate: 0.42\n",
      "Update Count: 299, average rewards: 44.27806827745735, episode: 1100, success rate: 0.32\n",
      "Update Count: 329, average rewards: 54.290360411094824, episode: 1200, success rate: 0.27\n",
      "Update Count: 347, average rewards: 25.124557556069714, episode: 1300, success rate: 0.13\n",
      "Update Count: 378, average rewards: 54.97740387941408, episode: 1400, success rate: 0.41\n",
      "Update Count: 416, average rewards: 72.8659938740499, episode: 1500, success rate: 0.49\n",
      "Update Count: 450, average rewards: 179.13092908805822, episode: 1600, success rate: 0.67\n",
      "Target score reached in 1621 episodes!\n"
     ]
    }
   ],
   "source": [
    "fix(env, 234)\n",
    "r_s_agent = PPOAgent(state_dim ,action_dim,n_latent_var,update_timestep, lr,betas,gamma,K_epochs,eps_clip,c1,c2)\n",
    "training_result_rs = TrainOnce(c2, eps_clip, r_s_agent, reward_mode=\"center\")"
   ]
  },
  {
   "cell_type": "code",
   "execution_count": 22,
   "metadata": {},
   "outputs": [],
   "source": [
    "# In case you want to save the pickle file, uncomment these.\n",
    "# with open('training_result_rs.pkl', 'wb') as f:\n",
    "#     pickle.dump(training_result_rs, f)"
   ]
  },
  {
   "cell_type": "markdown",
   "metadata": {},
   "source": [
    "## Compare to normal process"
   ]
  },
  {
   "cell_type": "code",
   "execution_count": 24,
   "metadata": {},
   "outputs": [],
   "source": [
    "normal_agent = PPOAgent(state_dim ,action_dim,n_latent_var,update_timestep, lr,betas,gamma,K_epochs,eps_clip,c1,c2)\n",
    "training_result_normal = TrainOnce(c2, eps_clip, normal_agent, reward_mode=\"none\")"
   ]
  },
  {
   "cell_type": "code",
   "execution_count": 26,
   "metadata": {},
   "outputs": [
    {
     "data": {
      "image/png": "[encoded data removed]",
      "text/plain": [
       "<Figure size 900x600 with 1 Axes>"
      ]
     },
     "metadata": {},
     "output_type": "display_data"
    }
   ],
   "source": [
    "plt.figure(figsize=(9,6))\n",
    "plt.title(\"Reward Shaping Helps to Learn\", fontsize=20)\n",
    "moving_average_rewards1 = training_result_normal['moving_average_rewards']\n",
    "plt.plot(moving_average_rewards1, color=(147/255,103/255,153/255), label='Normal')\n",
    "moving_average_rewards2 = training_result_rs['moving_average_rewards']\n",
    "plt.plot(moving_average_rewards2, color=\"green\", label='Reward Shaping')\n",
    "plt.xlabel('Episode Needed')\n",
    "plt.ylabel('Average Rewards')\n",
    "plt.axhline(y=200, color='r', linestyle='--')\n",
    "\n",
    "x1 = len(moving_average_rewards1)\n",
    "x2 = len(moving_average_rewards2)\n",
    "plt.plot([x1,x1], [-400,200], color = \"grey\", linestyle='--')\n",
    "plt.plot([x2,x2], [-400,200], color = \"grey\", linestyle='--')\n",
    "plt.text(x1+10,0, f'{x1} episodes')\n",
    "plt.text(x2+10,0, f'{x2} episodes')\n",
    "\n",
    "plt.ylim(-400, 400)\n",
    "plt.legend()\n",
    "\n",
    "plt.show()"
   ]
  },
  {
   "cell_type": "code",
   "execution_count": null,
   "metadata": {},
   "outputs": [],
   "source": []
  }
 ],
 "metadata": {
  "kernelspec": {
   "display_name": "Python 3 (ipykernel)",
   "language": "python",
   "name": "python3"
  },
  "language_info": {
   "codemirror_mode": {
    "name": "ipython",
    "version": 3
   },
   "file_extension": ".py",
   "mimetype": "text/x-python",
   "name": "python",
   "nbconvert_exporter": "python",
   "pygments_lexer": "ipython3",
   "version": "3.12.3"
  }
 },
 "nbformat": 4,
 "nbformat_minor": 4
}
