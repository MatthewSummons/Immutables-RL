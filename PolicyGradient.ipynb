{
  "cells": [
    {
      "cell_type": "markdown",
      "metadata": {
        "id": "Fp30SB4bxeQb",
        "pycharm": {
          "name": "#%% md\n"
        }
      },
      "source": [
        "# **Policy Gradient**"
      ]
    },
    {
      "cell_type": "markdown",
      "metadata": {
        "id": "yXsnCWPtWSNk",
        "pycharm": {
          "name": "#%% md\n"
        }
      },
      "source": [
        "# Task description\n",
        "\n",
        "We follow the structure of the tutorial, set up the environment, implement the policy gradient method as a baseline model. And we try different ways to improve the performance of the policy."
      ]
    },
    {
      "cell_type": "markdown",
      "metadata": {
        "id": "BXy35_E2DPD5",
        "pycharm": {
          "name": "#%% md\n"
        }
      },
      "source": [
        "# Environment\n",
        "install the necessary system kit and pypi kit."
      ]
    },
    {
      "cell_type": "code",
      "execution_count": null,
      "metadata": {
        "colab": {
          "base_uri": "https://localhost:8080/"
        },
        "id": "K2b0hwCZHcSH",
        "outputId": "af504c04-212e-43d1-ed43-c2d5b4927d19"
      },
      "outputs": [],
      "source": [
        "!apt install python3-opengl -y\n",
        "!apt install xvfb -y\n",
        "!pip install pyvirtualdisplay\n",
        "!pip install piglet\n",
        "!pip3 install pyvirtualdisplay numpy torch torchvision torchaudio gymnasium tqdm matplotlib jupyter\n",
        "!pip install swig\n",
        "!pip install gym[box2d]\n",
        "!pip install box2d-py ipykernel ipywidgets widgetsnbextension"
      ]
    },
    {
      "cell_type": "markdown",
      "metadata": {
        "id": "M_-i3cdoYsks",
        "pycharm": {
          "name": "#%% md\n"
        }
      },
      "source": [
        "Next, set up the virtual display and introduce all necessary packages."
      ]
    },
    {
      "cell_type": "code",
      "execution_count": 10,
      "metadata": {
        "id": "nl2nREINDLiw",
        "pycharm": {
          "name": "#%%\n"
        }
      },
      "outputs": [],
      "source": [
        "%%capture\n",
        "from pyvirtualdisplay import Display\n",
        "virtual_display = Display(visible=0, size=(1400, 900))\n",
        "virtual_display.start()\n",
        "\n",
        "%matplotlib inline\n",
        "import matplotlib.pyplot as plt\n",
        "\n",
        "from IPython import display\n",
        "\n",
        "import numpy as np\n",
        "import torch\n",
        "import torch.nn as nn\n",
        "import torch.optim as optim\n",
        "import torch.nn.functional as F\n",
        "from torch.distributions import Categorical\n",
        "from tqdm.notebook import tqdm"
      ]
    },
    {
      "cell_type": "markdown",
      "metadata": {},
      "source": [
        "# Utilize GPU"
      ]
    },
    {
      "cell_type": "code",
      "execution_count": null,
      "metadata": {},
      "outputs": [],
      "source": [
        "device = torch.device('cuda' if torch.cuda.is_available() else 'cpu')"
      ]
    },
    {
      "cell_type": "markdown",
      "metadata": {
        "id": "NrkVvTrvWZ5H",
        "pycharm": {
          "name": "#%% md\n"
        }
      },
      "source": [
        "# Game Environment Test\n",
        "\n",
        "We use “LunarLander-v2” in OpenAI gym as the environment of the simulator.\n",
        "\n",
        "We use the `step()` function to make the agent act, and then the function will return the observation / state"
      ]
    },
    {
      "cell_type": "code",
      "execution_count": 11,
      "metadata": {
        "id": "W1k_f4yRDPD6"
      },
      "outputs": [],
      "source": [
        "%%capture\n",
        "import gymnasium as gym\n",
        "env = gym.make('LunarLander-v2', render_mode='rgb_array')"
      ]
    },
    {
      "cell_type": "code",
      "execution_count": 14,
      "metadata": {
        "colab": {
          "base_uri": "https://localhost:8080/"
        },
        "id": "pi4OmrmZgnWA",
        "outputId": "8a583bcb-70ce-4812-f42b-8a804578fccc",
        "pycharm": {
          "name": "#%%\n"
        }
      },
      "outputs": [
        {
          "name": "stdout",
          "output_type": "stream",
          "text": [
            "(array([ 0.00744886,  1.4023924 ,  0.75446093, -0.37903437, -0.00862445,\n",
            "       -0.17089637,  0.        ,  0.        ], dtype=float32), {})\n"
          ]
        }
      ],
      "source": [
        "initial_state = env.reset()\n",
        "print(initial_state)"
      ]
    },
    {
      "cell_type": "markdown",
      "metadata": {
        "id": "Mhqp6D-XgHpe",
        "pycharm": {
          "name": "#%% md\n"
        }
      },
      "source": [
        "### Random Agent\n",
        "\n",
        "A random agent as a benchmark"
      ]
    },
    {
      "cell_type": "code",
      "execution_count": 20,
      "metadata": {
        "colab": {
          "base_uri": "https://localhost:8080/",
          "height": 396
        },
        "id": "Y3G0bxoccelv",
        "outputId": "57256031-7242-48ab-d074-0eac261f5dd0",
        "pycharm": {
          "name": "#%%\n"
        }
      },
      "outputs": [
        {
          "data": {
            "image/png": "[encoded data removed]",
            "text/plain": [
              "<Figure size 640x480 with 1 Axes>"
            ]
          },
          "metadata": {},
          "output_type": "display_data"
        }
      ],
      "source": [
        "env.reset()\n",
        "\n",
        "img = plt.imshow(env.render())\n",
        "\n",
        "done = False\n",
        "while not done:\n",
        "    action = env.action_space.sample()\n",
        "    observation, reward, terminated, truncated, _ = env.step(action)\n",
        "    done = terminated or truncated\n",
        "    img.set_data(env.render())\n",
        "    display.display(plt.gcf())\n",
        "    display.clear_output(wait=True)"
      ]
    },
    {
      "cell_type": "markdown",
      "metadata": {
        "id": "F5paWqo7tWL2",
        "pycharm": {
          "name": "#%% md\n"
        }
      },
      "source": [
        "# Learn optimal policy to play the game by Policy Gradient algorithm  \n",
        "Let $\\pi_{\\theta}$ denote a policy with parameters $\\theta$, and $J(\\pi_{\\theta})$ denote the expected finite-horizon undiscounted return of the policy. The gradient of $J(\\pi_{\\theta})$ is\n",
        "\n",
        "$\\nabla_{\\theta} J(\\pi_{\\theta}) = E_{\\tau \\sim \\pi_{\\theta}}{\n",
        "    \\sum_{t=0}^{T} \\nabla_{\\theta} \\log \\pi_{\\theta}(a_t|s_t) A^{\\pi_{\\theta}}(s_t,a_t)\n",
        "    }$, where $\\tau$ is a trajectory and $A^{\\pi_{\\theta}}$ is the advantage function for the current policy.\n",
        "\n",
        "The policy gradient algorithm works by updating policy parameters via stochastic gradient ascent on policy performance:\n",
        "\n",
        "$\\theta_{k+1} = \\theta_k + \\alpha \\nabla_{\\theta} J(\\pi_{\\theta_k})$.\n",
        "\n",
        "Policy gradient implementations typically compute advantage function estimates based on the infinite-horizon discounted return, despite otherwise using the finite-horizon undiscounted policy gradient formula."
      ]
    },
    {
      "cell_type": "markdown",
      "metadata": {
        "id": "Czue4AmrDPD8",
        "pycharm": {
          "name": "#%% md\n"
        }
      },
      "source": [
        "## Implementation\n",
        "Now let's build a simple policy network.\n",
        "The input of our default model is 8-dim observation, and the output is one of the four discrete actions:"
      ]
    },
    {
      "cell_type": "code",
      "execution_count": 21,
      "metadata": {
        "id": "J8tdmeD-tZew",
        "pycharm": {
          "name": "#%%\n"
        }
      },
      "outputs": [],
      "source": [
        "class PolicyGradientNetwork(nn.Module):\n",
        "\n",
        "    def __init__(self):\n",
        "        super().__init__()\n",
        "        self.fc1 = nn.Linear(8, 8)\n",
        "        self.fc2 = nn.Linear(8, 8)\n",
        "        self.fc3 = nn.Linear(8, 4)\n",
        "\n",
        "    def forward(self, state):\n",
        "        hid = torch.relu(self.fc1(state))\n",
        "        hid = torch.relu(self.fc2(hid))\n",
        "        return F.softmax(self.fc3(hid), dim=-1)"
      ]
    },
    {
      "cell_type": "markdown",
      "metadata": {
        "id": "ynbqJrhIFTC3",
        "pycharm": {
          "name": "#%% md\n"
        }
      },
      "source": [
        "Next, build a simple agent and take action with the policy network above.\n",
        "\n",
        "This agent can do the following things:\n",
        "\n",
        "-` learn() `: update the policy network from the recorded log probabilities and rewards.\n",
        "\n",
        "-` sample() `: after obtaining the observation from the environment, use the policy network to get the action that should be taken.\n",
        "\n",
        "In addition to returning the sampled action, this function will also return the log probabilities of this sampling."
      ]
    },
    {
      "cell_type": "code",
      "execution_count": 22,
      "metadata": {
        "id": "zZo-IxJx286z",
        "pycharm": {
          "name": "#%%\n"
        }
      },
      "outputs": [],
      "source": [
        "class PolicyGradientAgent():\n",
        "    def __init__(self, network):\n",
        "        self.network = network\n",
        "        self.optimizer = optim.SGD(self.network.parameters(), lr=0.001)\n",
        "\n",
        "    def learn(self, log_probs, rewards):\n",
        "        loss = (-log_probs * rewards).sum()\n",
        "        self.optimizer.zero_grad()\n",
        "        loss.backward()\n",
        "        self.optimizer.step()\n",
        "\n",
        "    def sample(self, state):\n",
        "        action_prob = self.network(torch.FloatTensor(state))\n",
        "        action_dist = Categorical(action_prob)\n",
        "        action = action_dist.sample()\n",
        "        log_prob = action_dist.log_prob(action)\n",
        "        return action.item(), log_prob"
      ]
    },
    {
      "cell_type": "markdown",
      "metadata": {
        "id": "ehPlnTKyRZf9",
        "pycharm": {
          "name": "#%% md\n"
        }
      },
      "source": [
        "Finally, establish a network and agent, and you can start training."
      ]
    },
    {
      "cell_type": "code",
      "execution_count": 23,
      "metadata": {
        "id": "GfJIvML-RYjL",
        "pycharm": {
          "name": "#%%\n"
        }
      },
      "outputs": [],
      "source": [
        "network = PolicyGradientNetwork()\n",
        "agent = PolicyGradientAgent(network)"
      ]
    },
    {
      "cell_type": "markdown",
      "metadata": {
        "id": "ouv23glgf5Qt",
        "pycharm": {
          "name": "#%% md\n"
        }
      },
      "source": [
        "## Train the Agent\n",
        "\n",
        "Now let's start training the agent.\n",
        "\n",
        "By making the agent interact with the environment, we remember the log probabilities and reward corresponding to each group, and play back these \"memories\" to train the policy network after successful login or unfortunate crash."
      ]
    },
    {
      "cell_type": "code",
      "execution_count": 24,
      "metadata": {
        "colab": {
          "base_uri": "https://localhost:8080/",
          "height": 49,
          "referenced_widgets": [
            "16347f004cd0421384093237fd1134c1",
            "4200a94cacd64ba087c327a63011dfec",
            "7f450f48ba8749f9982911bb6b80c6c8",
            "bc5b4745ec5f446d9740bb7d5beb3bee",
            "ce5eb9b424364a84b4874d749bffadb4",
            "751572e1cfd645d987568e48b1a23a75",
            "49a442b4c1f34f7a89f81ac19901c58d",
            "4364709560cc425e8ed04b4964a3b2f3",
            "5e9081bf3ec8405794e9100aa1da11cd",
            "1f6ea23bfcde4090bcdcb0e469be4e74",
            "6e6ba03fbbcd4d2c82201c16a21f7a2c"
          ]
        },
        "id": "vg5rxBBaf38_",
        "outputId": "a9f33ee1-8eb1-41e7-b9dd-660eb65857cb",
        "pycharm": {
          "name": "#%%\n"
        }
      },
      "outputs": [
        {
          "data": {
            "application/vnd.jupyter.widget-view+json": {
              "model_id": "16347f004cd0421384093237fd1134c1",
              "version_major": 2,
              "version_minor": 0
            },
            "text/plain": [
              "  0%|          | 0/400 [00:00<?, ?it/s]"
            ]
          },
          "metadata": {},
          "output_type": "display_data"
        }
      ],
      "source": [
        "agent.network.train()  # Before training, please make sure that the network is in training mode\n",
        "EPISODE_PER_BATCH = 10  # Update the agent every 5 episodes collected\n",
        "NUM_BATCH = 1600        # 400 updates in total\n",
        "\n",
        "avg_total_rewards, avg_final_rewards = [], []\n",
        "\n",
        "prg_bar = tqdm(range(NUM_BATCH))\n",
        "for batch in prg_bar:\n",
        "    log_probs, rewards = [], []\n",
        "    total_rewards, final_rewards = [], []\n",
        "    # Collect training data\n",
        "    for episode in range(EPISODE_PER_BATCH):\n",
        "        state, _ = env.reset()\n",
        "        total_reward, total_step = 0, 0\n",
        "        while True:\n",
        "            action, log_prob = agent.sample(state)\n",
        "            next_state, reward, terminated, truncated, _ = env.step(action)\n",
        "            log_probs.append(log_prob)\n",
        "            state = next_state\n",
        "            total_reward += reward\n",
        "            total_step += 1\n",
        "            done = terminated or truncated\n",
        "            if done:\n",
        "                final_rewards.append(reward)\n",
        "                total_rewards.append(total_reward)\n",
        "                rewards.append(np.full(total_step, total_reward))  # Set the same episode, and the reward of each action is total reward\n",
        "                break\n",
        "    # Record the training process\n",
        "    avg_total_reward = sum(total_rewards) / len(total_rewards)\n",
        "    avg_final_reward = sum(final_rewards) / len(final_rewards)\n",
        "    avg_total_rewards.append(avg_total_reward)\n",
        "    avg_final_rewards.append(avg_final_reward)\n",
        "    prg_bar.set_description(f\"Total: {avg_total_reward: 4.1f}, Final: {avg_final_reward: 4.1f}\")\n",
        "\n",
        "    # Update the network\n",
        "    rewards = np.concatenate(rewards, axis=0)\n",
        "    rewards = (rewards - np.mean(rewards)) / (np.std(rewards) + 1e-9)  # Normalize reward\n",
        "    agent.learn(torch.stack(log_probs), torch.from_numpy(rewards))"
      ]
    },
    {
      "cell_type": "markdown",
      "metadata": {
        "id": "vNb_tuFYhKVK",
        "pycharm": {
          "name": "#%% md\n"
        }
      },
      "source": [
        "### Training results\n",
        "\n",
        "During the training, we kept recording ` AVG_ total_ Reward `, this value represents: before updating the policy network each time, we let the agent play several rounds (episodes), and what is the average total rewards of these rounds.\n",
        "\n",
        "Theoretically, if the agent has been making progress, the obtained ` AVG_ total_ Reward 'will also continue to rise up to 250.\n",
        "\n",
        "If it is drawn, the results are as follows:"
      ]
    },
    {
      "cell_type": "code",
      "execution_count": 25,
      "metadata": {
        "colab": {
          "base_uri": "https://localhost:8080/",
          "height": 452
        },
        "id": "wZYOI8H10SHN",
        "outputId": "5fed7f03-87d3-4887-f578-0b2a37d50d32",
        "pycharm": {
          "name": "#%%\n"
        }
      },
      "outputs": [
        {
          "data": {
            "image/png": "[encoded data removed]",
            "text/plain": [
              "<Figure size 640x480 with 1 Axes>"
            ]
          },
          "metadata": {},
          "output_type": "display_data"
        }
      ],
      "source": [
        "plt.plot(avg_total_rewards)\n",
        "plt.title(\"Total Rewards\")\n",
        "plt.show()"
      ]
    },
    {
      "cell_type": "markdown",
      "metadata": {
        "id": "mV5jj4dThz0Y",
        "pycharm": {
          "name": "#%% md\n"
        }
      },
      "source": [
        "Also, ` avg_total_reward` represents the average final rewards of multiple rounds, and the final reward is the last reward obtained by the agent in a single round.\n",
        "\n",
        "If you still remember the way the environment gives the lunar landing boat a reward, they will know that no matter whether the * * boat crashes, flies out of the picture, or stands still on the ground at the end of the * * round, it will receive additional rewards or punishment.\n",
        "\n",
        "Therefore, final reward can be used to observe whether the \"landing\" of the agent is smooth."
      ]
    },
    {
      "cell_type": "code",
      "execution_count": 26,
      "metadata": {
        "colab": {
          "base_uri": "https://localhost:8080/",
          "height": 452
        },
        "id": "txDZ5vlGWz5w",
        "outputId": "399eb824-50c4-4db3-d0e2-10157d663141",
        "pycharm": {
          "name": "#%%\n"
        }
      },
      "outputs": [
        {
          "data": {
            "image/png": "[encoded data removed]",
            "text/plain": [
              "<Figure size 640x480 with 1 Axes>"
            ]
          },
          "metadata": {},
          "output_type": "display_data"
        }
      ],
      "source": [
        "plt.plot(avg_final_rewards)\n",
        "plt.title(\"Final Rewards\")\n",
        "plt.show()"
      ]
    },
    {
      "cell_type": "markdown",
      "metadata": {
        "id": "u2HaGRVEYGQS",
        "pycharm": {
          "name": "#%% md\n"
        }
      },
      "source": [
        "## Testing"
      ]
    },
    {
      "cell_type": "code",
      "execution_count": 27,
      "metadata": {
        "colab": {
          "base_uri": "https://localhost:8080/",
          "height": 396
        },
        "id": "5yFuUKKRYH73",
        "outputId": "f8dd27fc-6480-42a7-cc1e-8c53de25b77a",
        "pycharm": {
          "name": "#%%\n"
        },
        "scrolled": false
      },
      "outputs": [
        {
          "data": {
            "image/png": "[encoded data removed]",
            "text/plain": [
              "<Figure size 640x480 with 1 Axes>"
            ]
          },
          "metadata": {},
          "output_type": "display_data"
        }
      ],
      "source": [
        "agent.network.eval()  # Switch the network to the evaluation mode before testing\n",
        "\n",
        "state, _ = env.reset()\n",
        "\n",
        "img = plt.imshow(env.render())\n",
        "\n",
        "total_reward = 0\n",
        "\n",
        "done = False\n",
        "while not done:\n",
        "    action, _ = agent.sample(state)\n",
        "    state, reward, terminated, truncated, _ = env.step(action)\n",
        "    done = terminated or truncated\n",
        "    total_reward += reward\n",
        "    img.set_data(env.render())\n",
        "    display.display(plt.gcf())\n",
        "    display.clear_output(wait=True)"
      ]
    },
    {
      "cell_type": "code",
      "execution_count": 28,
      "metadata": {
        "colab": {
          "base_uri": "https://localhost:8080/"
        },
        "id": "Aex7mcKr0J01",
        "outputId": "3a8b9d5e-6644-4c0f-ee6f-66d898ae3ed0",
        "pycharm": {
          "name": "#%%\n"
        }
      },
      "outputs": [
        {
          "name": "stdout",
          "output_type": "stream",
          "text": [
            "-56.1922988006977\n"
          ]
        }
      ],
      "source": [
        "print(total_reward)"
      ]
    },
    {
      "cell_type": "markdown",
      "metadata": {
        "id": "wUBtYXG2eaqf",
        "pycharm": {
          "name": "#%% md\n"
        }
      },
      "source": []
    }
  ],
  "metadata": {
    "accelerator": "GPU",
    "colab": {
      "gpuType": "T4",
      "provenance": [],
      "toc_visible": true
    },
    "kernelspec": {
      "display_name": "Python 3",
      "name": "python3"
    },
    "language_info": {
      "codemirror_mode": {
        "name": "ipython",
        "version": 3
      },
      "file_extension": ".py",
      "mimetype": "text/x-python",
      "name": "python",
      "nbconvert_exporter": "python",
      "pygments_lexer": "ipython3",
      "version": "3.8.18"
    },
    "widgets": {
      "application/vnd.jupyter.widget-state+json": {
        "16347f004cd0421384093237fd1134c1": {
          "model_module": "@jupyter-widgets/controls",
          "model_module_version": "1.5.0",
          "model_name": "HBoxModel",
          "state": {
            "_dom_classes": [],
            "_model_module": "@jupyter-widgets/controls",
            "_model_module_version": "1.5.0",
            "_model_name": "HBoxModel",
            "_view_count": null,
            "_view_module": "@jupyter-widgets/controls",
            "_view_module_version": "1.5.0",
            "_view_name": "HBoxView",
            "box_style": "",
            "children": [
              "IPY_MODEL_4200a94cacd64ba087c327a63011dfec",
              "IPY_MODEL_7f450f48ba8749f9982911bb6b80c6c8",
              "IPY_MODEL_bc5b4745ec5f446d9740bb7d5beb3bee"
            ],
            "layout": "IPY_MODEL_ce5eb9b424364a84b4874d749bffadb4"
          }
        },
        "1f6ea23bfcde4090bcdcb0e469be4e74": {
          "model_module": "@jupyter-widgets/base",
          "model_module_version": "1.2.0",
          "model_name": "LayoutModel",
          "state": {
            "_model_module": "@jupyter-widgets/base",
            "_model_module_version": "1.2.0",
            "_model_name": "LayoutModel",
            "_view_count": null,
            "_view_module": "@jupyter-widgets/base",
            "_view_module_version": "1.2.0",
            "_view_name": "LayoutView",
            "align_content": null,
            "align_items": null,
            "align_self": null,
            "border": null,
            "bottom": null,
            "display": null,
            "flex": null,
            "flex_flow": null,
            "grid_area": null,
            "grid_auto_columns": null,
            "grid_auto_flow": null,
            "grid_auto_rows": null,
            "grid_column": null,
            "grid_gap": null,
            "grid_row": null,
            "grid_template_areas": null,
            "grid_template_columns": null,
            "grid_template_rows": null,
            "height": null,
            "justify_content": null,
            "justify_items": null,
            "left": null,
            "margin": null,
            "max_height": null,
            "max_width": null,
            "min_height": null,
            "min_width": null,
            "object_fit": null,
            "object_position": null,
            "order": null,
            "overflow": null,
            "overflow_x": null,
            "overflow_y": null,
            "padding": null,
            "right": null,
            "top": null,
            "visibility": null,
            "width": null
          }
        },
        "4200a94cacd64ba087c327a63011dfec": {
          "model_module": "@jupyter-widgets/controls",
          "model_module_version": "1.5.0",
          "model_name": "HTMLModel",
          "state": {
            "_dom_classes": [],
            "_model_module": "@jupyter-widgets/controls",
            "_model_module_version": "1.5.0",
            "_model_name": "HTMLModel",
            "_view_count": null,
            "_view_module": "@jupyter-widgets/controls",
            "_view_module_version": "1.5.0",
            "_view_name": "HTMLView",
            "description": "",
            "description_tooltip": null,
            "layout": "IPY_MODEL_751572e1cfd645d987568e48b1a23a75",
            "placeholder": "​",
            "style": "IPY_MODEL_49a442b4c1f34f7a89f81ac19901c58d",
            "value": "Total: -62.3, Final: -100.0: 100%"
          }
        },
        "4364709560cc425e8ed04b4964a3b2f3": {
          "model_module": "@jupyter-widgets/base",
          "model_module_version": "1.2.0",
          "model_name": "LayoutModel",
          "state": {
            "_model_module": "@jupyter-widgets/base",
            "_model_module_version": "1.2.0",
            "_model_name": "LayoutModel",
            "_view_count": null,
            "_view_module": "@jupyter-widgets/base",
            "_view_module_version": "1.2.0",
            "_view_name": "LayoutView",
            "align_content": null,
            "align_items": null,
            "align_self": null,
            "border": null,
            "bottom": null,
            "display": null,
            "flex": null,
            "flex_flow": null,
            "grid_area": null,
            "grid_auto_columns": null,
            "grid_auto_flow": null,
            "grid_auto_rows": null,
            "grid_column": null,
            "grid_gap": null,
            "grid_row": null,
            "grid_template_areas": null,
            "grid_template_columns": null,
            "grid_template_rows": null,
            "height": null,
            "justify_content": null,
            "justify_items": null,
            "left": null,
            "margin": null,
            "max_height": null,
            "max_width": null,
            "min_height": null,
            "min_width": null,
            "object_fit": null,
            "object_position": null,
            "order": null,
            "overflow": null,
            "overflow_x": null,
            "overflow_y": null,
            "padding": null,
            "right": null,
            "top": null,
            "visibility": null,
            "width": null
          }
        },
        "49a442b4c1f34f7a89f81ac19901c58d": {
          "model_module": "@jupyter-widgets/controls",
          "model_module_version": "1.5.0",
          "model_name": "DescriptionStyleModel",
          "state": {
            "_model_module": "@jupyter-widgets/controls",
            "_model_module_version": "1.5.0",
            "_model_name": "DescriptionStyleModel",
            "_view_count": null,
            "_view_module": "@jupyter-widgets/base",
            "_view_module_version": "1.2.0",
            "_view_name": "StyleView",
            "description_width": ""
          }
        },
        "5e9081bf3ec8405794e9100aa1da11cd": {
          "model_module": "@jupyter-widgets/controls",
          "model_module_version": "1.5.0",
          "model_name": "ProgressStyleModel",
          "state": {
            "_model_module": "@jupyter-widgets/controls",
            "_model_module_version": "1.5.0",
            "_model_name": "ProgressStyleModel",
            "_view_count": null,
            "_view_module": "@jupyter-widgets/base",
            "_view_module_version": "1.2.0",
            "_view_name": "StyleView",
            "bar_color": null,
            "description_width": ""
          }
        },
        "6e6ba03fbbcd4d2c82201c16a21f7a2c": {
          "model_module": "@jupyter-widgets/controls",
          "model_module_version": "1.5.0",
          "model_name": "DescriptionStyleModel",
          "state": {
            "_model_module": "@jupyter-widgets/controls",
            "_model_module_version": "1.5.0",
            "_model_name": "DescriptionStyleModel",
            "_view_count": null,
            "_view_module": "@jupyter-widgets/base",
            "_view_module_version": "1.2.0",
            "_view_name": "StyleView",
            "description_width": ""
          }
        },
        "751572e1cfd645d987568e48b1a23a75": {
          "model_module": "@jupyter-widgets/base",
          "model_module_version": "1.2.0",
          "model_name": "LayoutModel",
          "state": {
            "_model_module": "@jupyter-widgets/base",
            "_model_module_version": "1.2.0",
            "_model_name": "LayoutModel",
            "_view_count": null,
            "_view_module": "@jupyter-widgets/base",
            "_view_module_version": "1.2.0",
            "_view_name": "LayoutView",
            "align_content": null,
            "align_items": null,
            "align_self": null,
            "border": null,
            "bottom": null,
            "display": null,
            "flex": null,
            "flex_flow": null,
            "grid_area": null,
            "grid_auto_columns": null,
            "grid_auto_flow": null,
            "grid_auto_rows": null,
            "grid_column": null,
            "grid_gap": null,
            "grid_row": null,
            "grid_template_areas": null,
            "grid_template_columns": null,
            "grid_template_rows": null,
            "height": null,
            "justify_content": null,
            "justify_items": null,
            "left": null,
            "margin": null,
            "max_height": null,
            "max_width": null,
            "min_height": null,
            "min_width": null,
            "object_fit": null,
            "object_position": null,
            "order": null,
            "overflow": null,
            "overflow_x": null,
            "overflow_y": null,
            "padding": null,
            "right": null,
            "top": null,
            "visibility": null,
            "width": null
          }
        },
        "7f450f48ba8749f9982911bb6b80c6c8": {
          "model_module": "@jupyter-widgets/controls",
          "model_module_version": "1.5.0",
          "model_name": "FloatProgressModel",
          "state": {
            "_dom_classes": [],
            "_model_module": "@jupyter-widgets/controls",
            "_model_module_version": "1.5.0",
            "_model_name": "FloatProgressModel",
            "_view_count": null,
            "_view_module": "@jupyter-widgets/controls",
            "_view_module_version": "1.5.0",
            "_view_name": "ProgressView",
            "bar_style": "success",
            "description": "",
            "description_tooltip": null,
            "layout": "IPY_MODEL_4364709560cc425e8ed04b4964a3b2f3",
            "max": 400,
            "min": 0,
            "orientation": "horizontal",
            "style": "IPY_MODEL_5e9081bf3ec8405794e9100aa1da11cd",
            "value": 400
          }
        },
        "bc5b4745ec5f446d9740bb7d5beb3bee": {
          "model_module": "@jupyter-widgets/controls",
          "model_module_version": "1.5.0",
          "model_name": "HTMLModel",
          "state": {
            "_dom_classes": [],
            "_model_module": "@jupyter-widgets/controls",
            "_model_module_version": "1.5.0",
            "_model_name": "HTMLModel",
            "_view_count": null,
            "_view_module": "@jupyter-widgets/controls",
            "_view_module_version": "1.5.0",
            "_view_name": "HTMLView",
            "description": "",
            "description_tooltip": null,
            "layout": "IPY_MODEL_1f6ea23bfcde4090bcdcb0e469be4e74",
            "placeholder": "​",
            "style": "IPY_MODEL_6e6ba03fbbcd4d2c82201c16a21f7a2c",
            "value": " 400/400 [04:05&lt;00:00,  1.30s/it]"
          }
        },
        "ce5eb9b424364a84b4874d749bffadb4": {
          "model_module": "@jupyter-widgets/base",
          "model_module_version": "1.2.0",
          "model_name": "LayoutModel",
          "state": {
            "_model_module": "@jupyter-widgets/base",
            "_model_module_version": "1.2.0",
            "_model_name": "LayoutModel",
            "_view_count": null,
            "_view_module": "@jupyter-widgets/base",
            "_view_module_version": "1.2.0",
            "_view_name": "LayoutView",
            "align_content": null,
            "align_items": null,
            "align_self": null,
            "border": null,
            "bottom": null,
            "display": null,
            "flex": null,
            "flex_flow": null,
            "grid_area": null,
            "grid_auto_columns": null,
            "grid_auto_flow": null,
            "grid_auto_rows": null,
            "grid_column": null,
            "grid_gap": null,
            "grid_row": null,
            "grid_template_areas": null,
            "grid_template_columns": null,
            "grid_template_rows": null,
            "height": null,
            "justify_content": null,
            "justify_items": null,
            "left": null,
            "margin": null,
            "max_height": null,
            "max_width": null,
            "min_height": null,
            "min_width": null,
            "object_fit": null,
            "object_position": null,
            "order": null,
            "overflow": null,
            "overflow_x": null,
            "overflow_y": null,
            "padding": null,
            "right": null,
            "top": null,
            "visibility": null,
            "width": null
          }
        }
      }
    }
  },
  "nbformat": 4,
  "nbformat_minor": 0
}
